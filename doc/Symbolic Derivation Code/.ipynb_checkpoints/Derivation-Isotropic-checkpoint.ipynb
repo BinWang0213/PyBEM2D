{
 "cells": [
  {
   "cell_type": "code",
   "execution_count": 5,
   "metadata": {
    "collapsed": true
   },
   "outputs": [],
   "source": [
    "import sympy as sym\n",
    "from sympy.interactive import printing\n",
    "from fractions import Fraction\n",
    "from sympy import MatrixSymbol, Transpose,diff,Poly\n",
    "from IPython.display import display\n",
    "\n",
    "printing.init_printing(use_latex='mathjax')"
   ]
  },
  {
   "cell_type": "markdown",
   "metadata": {},
   "source": [
    "### Geometry Properties"
   ]
  },
  {
   "cell_type": "code",
   "execution_count": 8,
   "metadata": {},
   "outputs": [
    {
     "data": {
      "text/latex": [
       "$$\\sqrt{\\left(x - x_{i}\\right)^{2} + \\left(y - y_{i}\\right)^{2}}$$"
      ],
      "text/plain": [
       "   _______________________\n",
       "  ╱         2           2 \n",
       "╲╱  (x - xᵢ)  + (y - yᵢ)  "
      ]
     },
     "metadata": {},
     "output_type": "display_data"
    },
    {
     "data": {
      "text/latex": [
       "$$\\frac{x - x_{i}}{\\sqrt{\\left(x - x_{i}\\right)^{2} + \\left(y - y_{i}\\right)^{2}}}$$"
      ],
      "text/plain": [
       "          x - xᵢ          \n",
       "──────────────────────────\n",
       "   _______________________\n",
       "  ╱         2           2 \n",
       "╲╱  (x - xᵢ)  + (y - yᵢ)  "
      ]
     },
     "metadata": {},
     "output_type": "display_data"
    },
    {
     "data": {
      "text/latex": [
       "$$\\frac{y - y_{i}}{\\sqrt{\\left(x - x_{i}\\right)^{2} + \\left(y - y_{i}\\right)^{2}}}$$"
      ],
      "text/plain": [
       "          y - yᵢ          \n",
       "──────────────────────────\n",
       "   _______________________\n",
       "  ╱         2           2 \n",
       "╲╱  (x - xᵢ)  + (y - yᵢ)  "
      ]
     },
     "metadata": {},
     "output_type": "display_data"
    },
    {
     "data": {
      "text/latex": [
       "$$\\frac{- x + x_{i}}{\\sqrt{\\left(x - x_{i}\\right)^{2} + \\left(y - y_{i}\\right)^{2}}}$$"
      ],
      "text/plain": [
       "         -x + xᵢ          \n",
       "──────────────────────────\n",
       "   _______________________\n",
       "  ╱         2           2 \n",
       "╲╱  (x - xᵢ)  + (y - yᵢ)  "
      ]
     },
     "metadata": {},
     "output_type": "display_data"
    },
    {
     "data": {
      "text/latex": [
       "$$\\frac{- y + y_{i}}{\\sqrt{\\left(x - x_{i}\\right)^{2} + \\left(y - y_{i}\\right)^{2}}}$$"
      ],
      "text/plain": [
       "         -y + yᵢ          \n",
       "──────────────────────────\n",
       "   _______________________\n",
       "  ╱         2           2 \n",
       "╲╱  (x - xᵢ)  + (y - yᵢ)  "
      ]
     },
     "metadata": {},
     "output_type": "display_data"
    },
    {
     "data": {
      "text/latex": [
       "$$\\frac{1}{r} \\left(C_{x} + D_{x} \\xi_{i}\\right)$$"
      ],
      "text/plain": [
       "Cₓ + Dₓ⋅ξᵢ\n",
       "──────────\n",
       "    r     "
      ]
     },
     "metadata": {},
     "output_type": "display_data"
    },
    {
     "data": {
      "text/latex": [
       "$$\\frac{2 D_{y}}{L_{j}}$$"
      ],
      "text/plain": [
       "2⋅D_y\n",
       "─────\n",
       " L_j "
      ]
     },
     "metadata": {},
     "output_type": "display_data"
    },
    {
     "data": {
      "text/latex": [
       "$$\\frac{1}{r} \\left(C_{y} + D_{y} \\xi_{i}\\right)$$"
      ],
      "text/plain": [
       "C_y + D_y⋅ξᵢ\n",
       "────────────\n",
       "     r      "
      ]
     },
     "metadata": {},
     "output_type": "display_data"
    },
    {
     "data": {
      "text/latex": [
       "$$- \\frac{2 D_{x}}{L_{j}}$$"
      ],
      "text/plain": [
       "-2⋅Dₓ \n",
       "──────\n",
       " L_j  "
      ]
     },
     "metadata": {},
     "output_type": "display_data"
    },
    {
     "data": {
      "text/latex": [
       "$$\\frac{2}{L_{j} r} \\left(C_{x} D_{y} - C_{y} D_{x}\\right)$$"
      ],
      "text/plain": [
       "2⋅(Cₓ⋅D_y - C_y⋅Dₓ)\n",
       "───────────────────\n",
       "       L_j⋅r       "
      ]
     },
     "execution_count": 8,
     "metadata": {},
     "output_type": "execute_result"
    }
   ],
   "source": [
    "#Define symbol\n",
    "s11,s22,s12,x,Dx,Cx,Dy,Cy = sym.symbols('s_11 s_22 s_12 xi D_x C_x D_y C_y')\n",
    "xi,x1,y1,x2,y2=sym.symbols('xi_i x_1 y_1 x_2 y_2')\n",
    "Lj=sym.symbols('L_j')\n",
    "\n",
    "X,Y,Xi,Yi,R=sym.symbols('x y x_i,y_i r')\n",
    "\n",
    "#Distance Function for anistropic system\n",
    "r=sym.sqrt((-Xi+X)**2+(-Yi+Y)**2)\n",
    "display(r)\n",
    "\n",
    "#Derivative in x and y direction\n",
    "drdx,drdy=diff(r,X),diff(r,Y)\n",
    "drdx,drdy=drdx.simplify(),drdy.simplify()\n",
    "display(drdx)\n",
    "display(drdy)\n",
    "drdxi,drdyi=diff(r,Xi),diff(r,Yi)\n",
    "drdxi,drdyi=drdxi.simplify(),drdyi.simplify()\n",
    "display(drdxi)\n",
    "display(drdyi)\n",
    "\n",
    "#Derivate in normal direction\n",
    "drdx=(Cx+Dx*xi)/R\n",
    "drdy=(Cy+Dy*xi)/R\n",
    "nx,ny=2*Dy/Lj,-2*Dx/Lj\n",
    "display(drdx,nx)\n",
    "display(drdy,ny)\n",
    "drdn=drdx*nx+drdy*ny\n",
    "drdn=drdn.expand()\n",
    "drdn=drdn.simplify()\n",
    "drdn"
   ]
  },
  {
   "cell_type": "code",
   "execution_count": 40,
   "metadata": {
    "collapsed": true
   },
   "outputs": [],
   "source": []
  },
  {
   "cell_type": "code",
   "execution_count": 41,
   "metadata": {},
   "outputs": [
    {
     "data": {
      "text/latex": [
       "$$\\frac{2 D_{y}}{L_{j}}$$"
      ],
      "text/plain": [
       "2⋅D_y\n",
       "─────\n",
       " L_j "
      ]
     },
     "execution_count": 41,
     "metadata": {},
     "output_type": "execute_result"
    }
   ],
   "source": []
  },
  {
   "cell_type": "markdown",
   "metadata": {},
   "source": [
    "### Off element"
   ]
  },
  {
   "cell_type": "code",
   "execution_count": 13,
   "metadata": {
    "collapsed": true
   },
   "outputs": [],
   "source": [
    "\n",
    "r=sym.sqrt(s11*(Dx*x+Cx)**2+s22*(Dy*x+Cy)**2+2*s12*(Dx*x+Cx)*(Dy*x+Cy))\n",
    "\n",
    "r2=r**2\n",
    "\n",
    "r2=Poly(r2, x)\n",
    "coeff=r2.coeffs()"
   ]
  },
  {
   "cell_type": "code",
   "execution_count": 14,
   "metadata": {},
   "outputs": [
    {
     "data": {
      "text/latex": [
       "$$\\left [ D_{x}^{2} s_{11} + 2 D_{x} D_{y} s_{12} + D_{y}^{2} s_{22}, \\quad 2 C_{x} D_{x} s_{11} + 2 C_{x} D_{y} s_{12} + 2 C_{y} D_{x} s_{12} + 2 C_{y} D_{y} s_{22}, \\quad C_{x}^{2} s_{11} + 2 C_{x} C_{y} s_{12} + C_{y}^{2} s_{22}\\right ]$$"
      ],
      "text/plain": [
       "⎡  2                         2                                                \n",
       "⎣Dₓ ⋅s₁₁ + 2⋅Dₓ⋅D_y⋅s₁₂ + D_y ⋅s₂₂, 2⋅Cₓ⋅Dₓ⋅s₁₁ + 2⋅Cₓ⋅D_y⋅s₁₂ + 2⋅C_y⋅Dₓ⋅s₁₂ \n",
       "\n",
       "                   2                         2    ⎤\n",
       "+ 2⋅C_y⋅D_y⋅s₂₂, Cₓ ⋅s₁₁ + 2⋅Cₓ⋅C_y⋅s₁₂ + C_y ⋅s₂₂⎦"
      ]
     },
     "execution_count": 14,
     "metadata": {},
     "output_type": "execute_result"
    }
   ],
   "source": [
    "coeff"
   ]
  },
  {
   "cell_type": "code",
   "execution_count": 6,
   "metadata": {},
   "outputs": [
    {
     "data": {
      "text/latex": [
       "$$\\operatorname{Poly}{\\left( C_{x}^{2} s_{11} + 2 C_{x} C_{y} s_{12} + C_{y}^{2} s_{22} + \\xi^{2} \\left(D_{x}^{2} s_{11} + 2 D_{x} D_{y} s_{12} + D_{y}^{2} s_{22}\\right) + \\xi \\left(2 C_{x} D_{x} s_{11} + 2 C_{x} D_{y} s_{12} + 2 C_{y} D_{x} s_{12} + 2 C_{y} D_{y} s_{22}\\right), \\xi, domain=\\mathbb{Z}\\left[C_{x}, C_{y}, D_{x}, D_{y}, s_{11}, s_{12}, s_{22}\\right] \\right)}$$"
      ],
      "text/plain": [
       "Poly((D_x**2*s_11 + 2*D_x*D_y*s_12 + D_y**2*s_22)*xi**2 + (2*C_x*D_x*s_11 + 2*\n",
       "C_x*D_y*s_12 + 2*C_y*D_x*s_12 + 2*C_y*D_y*s_22)*xi + C_x**2*s_11 + 2*C_x*C_y*s\n",
       "_12 + C_y**2*s_22, xi, domain='ZZ[C_x,C_y,D_x,D_y,s_11,s_12,s_22]')"
      ]
     },
     "execution_count": 6,
     "metadata": {},
     "output_type": "execute_result"
    }
   ],
   "source": [
    "r2"
   ]
  },
  {
   "cell_type": "markdown",
   "metadata": {
    "collapsed": true
   },
   "source": [
    "## On element"
   ]
  },
  {
   "cell_type": "code",
   "execution_count": 7,
   "metadata": {
    "collapsed": true
   },
   "outputs": [],
   "source": [
    "#Define symbol\n",
    "#Source point\n",
    "x_s,y_s=Dx*x+0.5*(x1+x2),Dy*x+0.5*(y1+y2)\n",
    "#Field point\n",
    "x_f,y_f=Dx*xi+0.5*(x1+x2),Dy*xi+0.5*(y1+y2)\n",
    "\n",
    "#Distance function\n",
    "x_diff,y_diff=x_s-x_f,y_s-y_f\n",
    "r2=s11*(x_diff)**2+s22*(y_diff)**2+2*s12*(x_diff)*(y_diff)\n",
    "\n",
    "r2=sym.simplify(r2)\n",
    "#coeff=r2_on.coeffs()"
   ]
  },
  {
   "cell_type": "code",
   "execution_count": 8,
   "metadata": {},
   "outputs": [
    {
     "data": {
      "text/latex": [
       "$$\\left ( D_{x} \\xi - D_{x} \\xi_{i}, \\quad D_{y} \\xi - D_{y} \\xi_{i}\\right )$$"
      ],
      "text/plain": [
       "(Dₓ⋅ξ - Dₓ⋅ξᵢ, D_y⋅ξ - D_y⋅ξᵢ)"
      ]
     },
     "execution_count": 8,
     "metadata": {},
     "output_type": "execute_result"
    }
   ],
   "source": [
    "x_diff,y_diff"
   ]
  },
  {
   "cell_type": "code",
   "execution_count": 9,
   "metadata": {},
   "outputs": [
    {
     "data": {
      "text/latex": [
       "$$\\left(\\xi - \\xi_{i}\\right)^{2} \\left(D_{x}^{2} s_{11} + 2 D_{x} D_{y} s_{12} + D_{y}^{2} s_{22}\\right)$$"
      ],
      "text/plain": [
       "        2 ⎛  2                         2    ⎞\n",
       "(ξ - ξᵢ) ⋅⎝Dₓ ⋅s₁₁ + 2⋅Dₓ⋅D_y⋅s₁₂ + D_y ⋅s₂₂⎠"
      ]
     },
     "execution_count": 9,
     "metadata": {},
     "output_type": "execute_result"
    }
   ],
   "source": [
    "r2"
   ]
  },
  {
   "cell_type": "code",
   "execution_count": null,
   "metadata": {
    "collapsed": true
   },
   "outputs": [],
   "source": []
  }
 ],
 "metadata": {
  "kernelspec": {
   "display_name": "Python 3",
   "language": "python",
   "name": "python3"
  },
  "language_info": {
   "codemirror_mode": {
    "name": "ipython",
    "version": 3
   },
   "file_extension": ".py",
   "mimetype": "text/x-python",
   "name": "python",
   "nbconvert_exporter": "python",
   "pygments_lexer": "ipython3",
   "version": "3.6.3"
  }
 },
 "nbformat": 4,
 "nbformat_minor": 2
}
