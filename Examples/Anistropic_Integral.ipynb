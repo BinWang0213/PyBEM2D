{
 "cells": [
  {
   "cell_type": "code",
   "execution_count": 3,
   "metadata": {},
   "outputs": [
    {
     "name": "stdout",
     "output_type": "stream",
     "text": [
      "The autoreload extension is already loaded. To reload it, use:\n",
      "  %reload_ext autoreload\n"
     ]
    }
   ],
   "source": [
    "%matplotlib inline\n",
    "%load_ext autoreload\n",
    "%autoreload 2\n",
    "\n",
    "#Find the releative path of Lib folder\n",
    "import os\n",
    "import sys\n",
    "module_path = os.path.abspath(os.path.join('..'))\n",
    "if module_path not in sys.path:\n",
    "    sys.path.append(module_path)\n",
    "\n",
    "import PyBEM2D as BEMpy"
   ]
  },
  {
   "cell_type": "code",
   "execution_count": 4,
   "metadata": {
    "scrolled": false
   },
   "outputs": [
    {
     "name": "stdout",
     "output_type": "stream",
     "text": [
      "[Mesh] Genetrated...\n",
      "[Mesh] Discontinous Element used\n",
      "[Mesh] Number of boundary elements:4(Total) 4(Edge) 0(Trace)\n",
      "[Mesh] Number of Nodes:4(Total) 4(Edge) 0(Trace) 0(Source)\n",
      "[Boundary Condition] BCs set up\n",
      "[Boundary Condition] Dirichlet BC @ [(3, 100), (1, 50), (2, 50)]\n"
     ]
    },
    {
     "data": {
      "image/png": "[encoded data removed]",
      "text/plain": [
       "<Figure size 360x288 with 1 Axes>"
      ]
     },
     "metadata": {
      "needs_background": "light"
     },
     "output_type": "display_data"
    }
   ],
   "source": [
    "BEM_Case1=BEMpy.BEM2D()\n",
    "\n",
    "#1.Build Mesh-#Anti-clock wise for internal domain\n",
    "Boundary_vert=[(0.0, 0.0), (1, 0.0),(1,1.0),(0.0,1.0)]  #bottom\n",
    "element_esize=1.0\n",
    "\n",
    "BEM_Case1.set_Mesh(Boundary_vert,[],[],element_esize,[],Type=\"Const\")\n",
    "#2.Set Boundary condition\n",
    "bc0=[(3,100),(1,50),(2,50)]\n",
    "BEM_Case1.set_BoundaryCondition(DirichletBC=bc0)#,RobinBC=bc1)\n",
    "\n",
    "#bc0=[(3,100)]\n",
    "#bc1=[(1,-50)]\n",
    "#BEM_Case1.set_BoundaryCondition(DirichletBC=bc0,NeumannBC=bc1)#,RobinBC=bc1)\n",
    "\n",
    "#3.Set Domain Properties - permeability tensor\n",
    "k11=2\n",
    "k12=0\n",
    "k22=2\n",
    "k_tensor=[k11,k12,k22]\n",
    "BEM_Case1.SetProps(k_tensor)\n",
    "\n",
    "#Check Mesh\n",
    "BEM_Case1.plot_Mesh()\n",
    "#Check Node,BC if necessary\n",
    "#BEM_Case1.Mesh.print_debug()"
   ]
  },
  {
   "cell_type": "code",
   "execution_count": 6,
   "metadata": {},
   "outputs": [],
   "source": [
    "from PyBEM2D.BEM_Solver.Elements.Exact_Integration import *"
   ]
  },
  {
   "cell_type": "code",
   "execution_count": 7,
   "metadata": {},
   "outputs": [
    {
     "data": {
      "text/plain": [
       "([0.907749017162497, -1.0, -1.0],\n",
       " [-3.141592653589793, -1.0, -1.0],\n",
       " [0.0, -1.0, -1.0],\n",
       " [-1.5707963267948966, -1.0, -1.0],\n",
       " [-0.0, -1.0, -1.0],\n",
       " [4.0, -1.0, -1.0])"
      ]
     },
     "execution_count": 7,
     "metadata": {},
     "output_type": "execute_result"
    }
   ],
   "source": [
    "Analytical_Intergration_cython(0.5,0.5,BEM_Case1.BEs_edge[0],BEM_Case1.k)"
   ]
  },
  {
   "cell_type": "code",
   "execution_count": 27,
   "metadata": {},
   "outputs": [
    {
     "data": {
      "text/plain": [
       "0.15915494309189535"
      ]
     },
     "execution_count": 27,
     "metadata": {},
     "output_type": "execute_result"
    }
   ],
   "source": [
    "BEM_Case1.k_coeff"
   ]
  },
  {
   "cell_type": "code",
   "execution_count": 31,
   "metadata": {},
   "outputs": [
    {
     "data": {
      "text/plain": [
       "0.08931384313005825"
      ]
     },
     "execution_count": 31,
     "metadata": {},
     "output_type": "execute_result"
    }
   ],
   "source": [
    "0.5611754268825244*0.15915494309189535"
   ]
  },
  {
   "cell_type": "code",
   "execution_count": 29,
   "metadata": {},
   "outputs": [
    {
     "data": {
      "text/plain": [
       "([0.907749017162497, -1.0, -1.0],\n",
       " [-3.141592653589793, -1.0, -1.0],\n",
       " [0.0, -1.0, -1.0],\n",
       " [-1.5707963267948966, -1.0, -1.0],\n",
       " [-0.0, -1.0, -1.0],\n",
       " [4.0, -1.0, -1.0])"
      ]
     },
     "execution_count": 29,
     "metadata": {},
     "output_type": "execute_result"
    }
   ],
   "source": [
    "Analytical_Intergration_cython(0.5,0.5,BEM_Case1.BEs_edge[0],BEM_Case1.k)"
   ]
  },
  {
   "cell_type": "code",
   "execution_count": 30,
   "metadata": {},
   "outputs": [
    {
     "data": {
      "text/plain": [
       "0.07957747154594767"
      ]
     },
     "execution_count": 30,
     "metadata": {},
     "output_type": "execute_result"
    }
   ],
   "source": [
    "BEM_Case1.k_coeff"
   ]
  },
  {
   "cell_type": "code",
   "execution_count": 32,
   "metadata": {},
   "outputs": [
    {
     "data": {
      "text/plain": [
       "0.07223637158411057"
      ]
     },
     "execution_count": 32,
     "metadata": {},
     "output_type": "execute_result"
    }
   ],
   "source": [
    "0.907749017162497*0.07957747154594767"
   ]
  },
  {
   "cell_type": "code",
   "execution_count": 15,
   "metadata": {},
   "outputs": [
    {
     "name": "stdout",
     "output_type": "stream",
     "text": [
      "2.09 µs ± 35.3 ns per loop (mean ± std. dev. of 7 runs, 100000 loops each)\n"
     ]
    }
   ],
   "source": [
    "%timeit Analytical_Intergration_cython(0.25,0.1,BEM_Case1.BEs_edge[0],BEM_Case1.k)"
   ]
  },
  {
   "cell_type": "code",
   "execution_count": 16,
   "metadata": {},
   "outputs": [
    {
     "name": "stdout",
     "output_type": "stream",
     "text": [
      "44.8 µs ± 1.38 µs per loop (mean ± std. dev. of 7 runs, 10000 loops each)\n"
     ]
    }
   ],
   "source": [
    "%timeit Analytical_Intergration_python(0.25,0.1,BEM_Case1.BEs_edge[0],BEM_Case1.k)"
   ]
  },
  {
   "cell_type": "code",
   "execution_count": null,
   "metadata": {
    "collapsed": true
   },
   "outputs": [],
   "source": [
    "Analytical_Intergration_python(0.01,0.01,BEM_Case1.BEs_edge[0],BEM_Case1.k)"
   ]
  },
  {
   "cell_type": "code",
   "execution_count": 116,
   "metadata": {},
   "outputs": [
    {
     "data": {
      "text/plain": [
       "2.7281447368421072"
      ]
     },
     "execution_count": 116,
     "metadata": {},
     "output_type": "execute_result"
    }
   ],
   "source": [
    "3.1415/1.1515151515151507"
   ]
  },
  {
   "cell_type": "code",
   "execution_count": 73,
   "metadata": {},
   "outputs": [
    {
     "data": {
      "text/plain": [
       "-6.000000000000007"
      ]
     },
     "execution_count": 73,
     "metadata": {},
     "output_type": "execute_result"
    }
   ],
   "source": [
    "-1.736055757838555/0.2893426263064255"
   ]
  }
 ],
 "metadata": {
  "kernelspec": {
   "display_name": "Python 3",
   "language": "python",
   "name": "python3"
  },
  "language_info": {
   "codemirror_mode": {
    "name": "ipython",
    "version": 3
   },
   "file_extension": ".py",
   "mimetype": "text/x-python",
   "name": "python",
   "nbconvert_exporter": "python",
   "pygments_lexer": "ipython3",
   "version": "3.7.0"
  }
 },
 "nbformat": 4,
 "nbformat_minor": 2
}
